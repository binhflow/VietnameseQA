{
  "nbformat": 4,
  "nbformat_minor": 0,
  "metadata": {
    "colab": {
      "name": "WikiQA-Bertv2",
      "provenance": [],
      "collapsed_sections": [],
      "toc_visible": true
    },
    "kernelspec": {
      "name": "python3",
      "display_name": "Python 3"
    },
    "accelerator": "TPU"
  },
  "cells": [
    {
      "cell_type": "markdown",
      "metadata": {
        "id": "meO7ZaISZfZ1",
        "colab_type": "text"
      },
      "source": [
        "<a href=\"https://colab.research.google.com/github/tensorflow/tpu/blob/master/tools/colab/bert_finetuning_with_cloud_tpus.ipynb\" target=\"_parent\"><img src=\"https://colab.research.google.com/assets/colab-badge.svg\" alt=\"Open In Colab\"/></a>"
      ]
    },
    {
      "cell_type": "markdown",
      "metadata": {
        "id": "IhdjgZWAZ60C",
        "colab_type": "text"
      },
      "source": [
        "##### Copyright 2018 The TensorFlow Hub Authors.\n",
        "\n",
        "Licensed under the Apache License, Version 2.0 (the \"License\");"
      ]
    },
    {
      "cell_type": "code",
      "metadata": {
        "id": "wHQH4OCHZ9bq",
        "colab_type": "code",
        "colab": {}
      },
      "source": [
        "# Copyright 2018 The TensorFlow Hub Authors. All Rights Reserved.\n",
        "#\n",
        "# Licensed under the Apache License, Version 2.0 (the \"License\");\n",
        "# you may not use this file except in compliance with the License.\n",
        "# You may obtain a copy of the License at\n",
        "#\n",
        "#     http://www.apache.org/licenses/LICENSE-2.0\n",
        "#\n",
        "# Unless required by applicable law or agreed to in writing, software\n",
        "# distributed under the License is distributed on an \"AS IS\" BASIS,\n",
        "# WITHOUT WARRANTIES OR CONDITIONS OF ANY KIND, either express or implied.\n",
        "# See the License for the specific language governing permissions and\n",
        "# limitations under the License.\n",
        "# =============================================================================="
      ],
      "execution_count": 0,
      "outputs": []
    },
    {
      "cell_type": "code",
      "metadata": {
        "id": "191zq3ZErihP",
        "colab_type": "code",
        "outputId": "b9ba5788-a358-4aa8-fce2-8e2c74e082c4",
        "colab": {
          "base_uri": "https://localhost:8080/",
          "height": 402
        }
      },
      "source": [
        "import datetime\n",
        "import json\n",
        "import os\n",
        "import pprint\n",
        "import random\n",
        "import string\n",
        "import sys\n",
        "import tensorflow as tf\n",
        "\n",
        "assert 'COLAB_TPU_ADDR' in os.environ, 'ERROR: Not connected to a TPU runtime; please see the first cell in this notebook for instructions!'\n",
        "TPU_ADDRESS = 'grpc://' + os.environ['COLAB_TPU_ADDR']\n",
        "print('TPU address is', TPU_ADDRESS)\n",
        "\n",
        "from google.colab import auth\n",
        "auth.authenticate_user()\n",
        "with tf.Session(TPU_ADDRESS) as session:\n",
        "  print('TPU devices:')\n",
        "  pprint.pprint(session.list_devices())\n",
        "\n",
        "  # Upload credentials to TPU.\n",
        "  with open('/content/adc.json', 'r') as f:\n",
        "    auth_info = json.load(f)\n",
        "  tf.contrib.cloud.configure_gcs(session, credentials=auth_info)\n",
        "  # Now credentials are set for all future sessions on this TPU."
      ],
      "execution_count": 0,
      "outputs": [
        {
          "output_type": "stream",
          "text": [
            "TPU address is grpc://10.95.83.234:8470\n",
            "WARNING:tensorflow:\n",
            "The TensorFlow contrib module will not be included in TensorFlow 2.0.\n",
            "For more information, please see:\n",
            "  * https://github.com/tensorflow/community/blob/master/rfcs/20180907-contrib-sunset.md\n",
            "  * https://github.com/tensorflow/addons\n",
            "  * https://github.com/tensorflow/io (for I/O related ops)\n",
            "If you depend on functionality not listed there, please file an issue.\n",
            "\n",
            "TPU devices:\n",
            "[_DeviceAttributes(/job:tpu_worker/replica:0/task:0/device:CPU:0, CPU, -1, 2204676422108459207),\n",
            " _DeviceAttributes(/job:tpu_worker/replica:0/task:0/device:XLA_CPU:0, XLA_CPU, 17179869184, 11313756108960186354),\n",
            " _DeviceAttributes(/job:tpu_worker/replica:0/task:0/device:TPU:0, TPU, 17179869184, 17654255306167292778),\n",
            " _DeviceAttributes(/job:tpu_worker/replica:0/task:0/device:TPU:1, TPU, 17179869184, 14351922719313144005),\n",
            " _DeviceAttributes(/job:tpu_worker/replica:0/task:0/device:TPU:2, TPU, 17179869184, 4973633010266650051),\n",
            " _DeviceAttributes(/job:tpu_worker/replica:0/task:0/device:TPU:3, TPU, 17179869184, 7073275947122365795),\n",
            " _DeviceAttributes(/job:tpu_worker/replica:0/task:0/device:TPU:4, TPU, 17179869184, 602665409412993700),\n",
            " _DeviceAttributes(/job:tpu_worker/replica:0/task:0/device:TPU:5, TPU, 17179869184, 1008039598861276824),\n",
            " _DeviceAttributes(/job:tpu_worker/replica:0/task:0/device:TPU:6, TPU, 17179869184, 17388383968304458528),\n",
            " _DeviceAttributes(/job:tpu_worker/replica:0/task:0/device:TPU:7, TPU, 17179869184, 17868044357804238199),\n",
            " _DeviceAttributes(/job:tpu_worker/replica:0/task:0/device:TPU_SYSTEM:0, TPU_SYSTEM, 8589934592, 12669223275291908199)]\n"
          ],
          "name": "stdout"
        }
      ]
    },
    {
      "cell_type": "code",
      "metadata": {
        "id": "7wzwke0sxS6W",
        "colab_type": "code",
        "outputId": "3d1f6001-3372-4af9-ec0d-bbec12bee9b6",
        "colab": {
          "base_uri": "https://localhost:8080/",
          "height": 159
        }
      },
      "source": [
        "import sys\n",
        "\n",
        "!test -d bert_repo || git clone https://github.com/google-research/bert bert_repo\n",
        "if not 'bert_repo' in sys.path:\n",
        "  sys.path += ['bert_repo']\n",
        "\n",
        "# import python modules defined by BERT\n",
        "import modeling\n",
        "import optimization\n",
        "import run_classifier\n",
        "import run_classifier_with_tfhub\n",
        "import tokenization\n",
        "\n",
        "# import tfhub \n",
        "import tensorflow_hub as hub"
      ],
      "execution_count": 1,
      "outputs": [
        {
          "output_type": "stream",
          "text": [
            "Cloning into 'bert_repo'...\n",
            "remote: Enumerating objects: 336, done.\u001b[K\n",
            "remote: Total 336 (delta 0), reused 0 (delta 0), pack-reused 336\u001b[K\n",
            "Receiving objects: 100% (336/336), 283.40 KiB | 3.94 MiB/s, done.\n",
            "Resolving deltas: 100% (185/185), done.\n",
            "WARNING:tensorflow:From bert_repo/optimization.py:87: The name tf.train.Optimizer is deprecated. Please use tf.compat.v1.train.Optimizer instead.\n",
            "\n"
          ],
          "name": "stdout"
        }
      ]
    },
    {
      "cell_type": "code",
      "metadata": {
        "id": "tYkaAlJNfhul",
        "colab_type": "code",
        "outputId": "e769835d-b48c-486e-ee8c-4eaced0de5b6",
        "colab": {
          "base_uri": "https://localhost:8080/",
          "height": 34
        }
      },
      "source": [
        "TASK = 'WikiQAv5.0'\n",
        "BUCKET = 'bert-logs-zalo'\n",
        "assert BUCKET, 'Must specify an existing GCS bucket name'\n",
        "OUTPUT_DIR = 'gs://{}/bert-tfhub/models/{}'.format(BUCKET, TASK)\n",
        "tf.gfile.MakeDirs(OUTPUT_DIR)\n",
        "print('***** Model output directory: {} *****'.format(OUTPUT_DIR))\n",
        "BERT_MODEL = 'multi_cased_L-12_H-768_A-12' \n",
        "BERT_MODEL_HUB = 'https://tfhub.dev/google/bert_' + BERT_MODEL + '/1'"
      ],
      "execution_count": 0,
      "outputs": [
        {
          "output_type": "stream",
          "text": [
            "***** Model output directory: gs://bert-logs-zalo/bert-tfhub/models/WikiQAv5.0 *****\n"
          ],
          "name": "stdout"
        }
      ]
    },
    {
      "cell_type": "code",
      "metadata": {
        "id": "TylDOYd-6AH-",
        "colab_type": "code",
        "colab": {}
      },
      "source": [
        "tokenizer = run_classifier_with_tfhub.create_tokenizer_from_hub_module(BERT_MODEL_HUB)\n",
        "tokenizer.tokenize('Học máy ( tiếng Anh : \" machine learning \" ) là một lĩnh vực của trí tuệ nhân tạo')"
      ],
      "execution_count": 0,
      "outputs": []
    },
    {
      "cell_type": "markdown",
      "metadata": {
        "id": "wCLgvoS6mVJU",
        "colab_type": "text"
      },
      "source": [
        "## Data"
      ]
    },
    {
      "cell_type": "code",
      "metadata": {
        "id": "eRuzSgO-myCE",
        "colab_type": "code",
        "colab": {}
      },
      "source": [
        "from tensorflow import keras\n",
        "import os\n",
        "import pandas as pd\n",
        "from sklearn.model_selection import train_test_split\n",
        "import numpy as np"
      ],
      "execution_count": 0,
      "outputs": []
    },
    {
      "cell_type": "code",
      "metadata": {
        "id": "np-xtEScq257",
        "colab_type": "code",
        "colab": {}
      },
      "source": [
        "def download(link, name):\n",
        "  dataset = tf.keras.utils.get_file(\n",
        "      fname=name+\".zip\", \n",
        "      origin=link, \n",
        "      extract=True)\n",
        "  with tf.gfile.GFile(os.path.join(os.path.dirname(dataset), name+'.json'), \"r\") as f:\n",
        "    data_dict = json.load(f)\n",
        "    return data_dict"
      ],
      "execution_count": 0,
      "outputs": []
    },
    {
      "cell_type": "code",
      "metadata": {
        "id": "0KwnPn_NCAzE",
        "colab_type": "code",
        "outputId": "073ca715-f406-492b-f41d-dab0a48a4d62",
        "colab": {
          "base_uri": "https://localhost:8080/",
          "height": 52
        }
      },
      "source": [
        "train_dict = download('https://dl.challenge.zalo.ai/ZAC2019_VietnameseWikiQA/train.zip','train')"
      ],
      "execution_count": 0,
      "outputs": [
        {
          "output_type": "stream",
          "text": [
            "Downloading data from https://dl.challenge.zalo.ai/ZAC2019_VietnameseWikiQA/train.zip\n",
            "2506752/2504567 [==============================] - 1s 0us/step\n"
          ],
          "name": "stdout"
        }
      ]
    },
    {
      "cell_type": "code",
      "metadata": {
        "id": "fujrSLn0D9LP",
        "colab_type": "code",
        "colab": {}
      },
      "source": [
        "df = pd.DataFrame.from_dict(train_dict)"
      ],
      "execution_count": 0,
      "outputs": []
    },
    {
      "cell_type": "code",
      "metadata": {
        "id": "tKkav-F7SqXo",
        "colab_type": "code",
        "colab": {}
      },
      "source": [
        "df['label']=np.where(df['label']==True,1,0)"
      ],
      "execution_count": 0,
      "outputs": []
    },
    {
      "cell_type": "code",
      "metadata": {
        "id": "VxlW4Twl4HT1",
        "colab_type": "code",
        "colab": {}
      },
      "source": [
        "train, dev = train_test_split(df, test_size=0.4,random_state=42)"
      ],
      "execution_count": 0,
      "outputs": []
    },
    {
      "cell_type": "code",
      "metadata": {
        "id": "c8T5WcAa5F0A",
        "colab_type": "code",
        "colab": {}
      },
      "source": [
        "train_InputExamples = train.apply(lambda x: run_classifier.InputExample(guid=None, # Globally unique ID for bookkeeping, unused in this example\n",
        "                                                                   text_a = x['question'], \n",
        "                                                                   text_b = x['text'], \n",
        "                                                                   label = x['label']), axis = 1)\n",
        "dev_InputExamples = dev.apply(lambda x: run_classifier.InputExample(guid=None, # Globally unique ID for bookkeeping, unused in this example\n",
        "                                                                   text_a = x['question'], \n",
        "                                                                   text_b = x['text'], \n",
        "                                                                   label = x['label']), axis = 1)\n"
      ],
      "execution_count": 0,
      "outputs": []
    },
    {
      "cell_type": "code",
      "metadata": {
        "id": "JoOCXGDPg7NH",
        "colab_type": "code",
        "colab": {}
      },
      "source": [
        "label_list = [0, 1]"
      ],
      "execution_count": 0,
      "outputs": []
    },
    {
      "cell_type": "markdown",
      "metadata": {
        "id": "oqQ_LHyzcoYW",
        "colab_type": "text"
      },
      "source": [
        "Also we initilize our hyperprams, prepare the training data and initialize TPU config."
      ]
    },
    {
      "cell_type": "code",
      "metadata": {
        "id": "pYVYULZiKvUi",
        "colab_type": "code",
        "colab": {}
      },
      "source": [
        "TRAIN_BATCH_SIZE = 16\n",
        "EVAL_BATCH_SIZE = 8\n",
        "PREDICT_BATCH_SIZE = 8\n",
        "LEARNING_RATE = 2e-5\n",
        "NUM_TRAIN_EPOCHS = 3.0\n",
        "MAX_SEQ_LENGTH = 256\n",
        "# Warmup is a period of time where hte learning rate \n",
        "# is small and gradually increases--usually helps training.\n",
        "WARMUP_PROPORTION = 0.1\n",
        "# Model configs\n",
        "SAVE_CHECKPOINTS_STEPS = 1000\n",
        "SAVE_SUMMARY_STEPS = 1000\n",
        "\n",
        "# Compute number of train and warmup steps from batch size\n",
        "num_train_steps = int(len(train) / TRAIN_BATCH_SIZE * NUM_TRAIN_EPOCHS)\n",
        "num_warmup_steps = int(num_train_steps * WARMUP_PROPORTION)\n",
        "\n",
        "# Setup TPU related config\n",
        "tpu_cluster_resolver = tf.contrib.cluster_resolver.TPUClusterResolver(TPU_ADDRESS)\n",
        "NUM_TPU_CORES = 8\n",
        "ITERATIONS_PER_LOOP = 1000\n",
        "\n",
        "def get_run_config(output_dir):\n",
        "  return tf.contrib.tpu.RunConfig(\n",
        "    cluster=tpu_cluster_resolver,\n",
        "    model_dir=output_dir,\n",
        "    save_checkpoints_steps=SAVE_CHECKPOINTS_STEPS,\n",
        "    tpu_config=tf.contrib.tpu.TPUConfig(\n",
        "        iterations_per_loop=ITERATIONS_PER_LOOP,\n",
        "        num_shards=NUM_TPU_CORES,\n",
        "        per_host_input_for_training=tf.contrib.tpu.InputPipelineConfig.PER_HOST_V2))\n"
      ],
      "execution_count": 0,
      "outputs": []
    },
    {
      "cell_type": "markdown",
      "metadata": {
        "id": "m3iFMeqLaSll",
        "colab_type": "text"
      },
      "source": [
        "# Fine-tune and Run Predictions on a pretrained BERT Model from TF Hub"
      ]
    },
    {
      "cell_type": "markdown",
      "metadata": {
        "id": "eXyJRc0OIHEU",
        "colab_type": "text"
      },
      "source": [
        "This section demonstrates fine-tuning from a pre-trained BERT TF Hub module and running predictions.\n"
      ]
    },
    {
      "cell_type": "code",
      "metadata": {
        "id": "14Cl9AKjRG1c",
        "colab_type": "code",
        "colab": {}
      },
      "source": [
        "def create_model(is_training, input_ids, input_mask, segment_ids, labels,\n",
        "                 num_labels, bert_hub_module_handle):\n",
        "  \"\"\"Creates a classification model.\"\"\"\n",
        "  tags = set()\n",
        "  if is_training:\n",
        "    tags.add(\"train\")\n",
        "  bert_module = hub.Module(bert_hub_module_handle, tags=tags, trainable=True)\n",
        "  bert_inputs = dict(\n",
        "      input_ids=input_ids,\n",
        "      input_mask=input_mask,\n",
        "      segment_ids=segment_ids)\n",
        "  bert_outputs = bert_module(\n",
        "      inputs=bert_inputs,\n",
        "      signature=\"tokens\",\n",
        "      as_dict=True)\n",
        "\n",
        "  # In the demo, we are doing a simple classification task on the entire\n",
        "  # segment.\n",
        "  #\n",
        "  # If you want to use the token-level output, use\n",
        "  # bert_outputs[\"sequence_output\"] instead.\n",
        "  output_layer = bert_outputs[\"pooled_output\"]\n",
        "\n",
        "  hidden_size = output_layer.shape[-1].value\n",
        "\n",
        "  output_weights = tf.get_variable(\n",
        "      \"output_weights\", [num_labels, hidden_size],\n",
        "      initializer=tf.truncated_normal_initializer(stddev=0.02))\n",
        "\n",
        "  output_bias = tf.get_variable(\n",
        "      \"output_bias\", [num_labels], initializer=tf.zeros_initializer())\n",
        "\n",
        "  with tf.variable_scope(\"loss\"):\n",
        "    if is_training:\n",
        "      # I.e., 0.1 dropout\n",
        "      output_layer = tf.nn.dropout(output_layer, keep_prob=0.5)\n",
        "\n",
        "    logits = tf.matmul(output_layer, output_weights, transpose_b=True)\n",
        "    logits = tf.nn.bias_add(logits, output_bias)\n",
        "    probabilities = tf.nn.softmax(logits, axis=-1)\n",
        "    log_probs = tf.nn.log_softmax(logits, axis=-1)\n",
        "\n",
        "    one_hot_labels = tf.one_hot(labels, depth=num_labels, dtype=tf.float32)\n",
        "\n",
        "    per_example_loss = -tf.reduce_sum(one_hot_labels * log_probs, axis=-1)\n",
        "    loss = tf.reduce_mean(per_example_loss)\n",
        "\n",
        "    return (loss, per_example_loss, logits, probabilities)\n",
        "\n",
        "def model_fn_builder(num_labels, learning_rate, num_train_steps,\n",
        "                     num_warmup_steps, use_tpu, bert_hub_module_handle):\n",
        "  \"\"\"Returns `model_fn` closure for TPUEstimator.\"\"\"\n",
        "\n",
        "  def model_fn(features, labels, mode, params):  # pylint: disable=unused-argument\n",
        "    \"\"\"The `model_fn` for TPUEstimator.\"\"\"\n",
        "\n",
        "    tf.logging.info(\"*** Features ***\")\n",
        "    for name in sorted(features.keys()):\n",
        "      tf.logging.info(\"  name = %s, shape = %s\" % (name, features[name].shape))\n",
        "\n",
        "    input_ids = features[\"input_ids\"]\n",
        "    input_mask = features[\"input_mask\"]\n",
        "    segment_ids = features[\"segment_ids\"]\n",
        "    label_ids = features[\"label_ids\"]\n",
        "\n",
        "    is_training = (mode == tf.estimator.ModeKeys.TRAIN)\n",
        "\n",
        "    (total_loss, per_example_loss, logits, probabilities) = create_model(\n",
        "        is_training, input_ids, input_mask, segment_ids, label_ids, num_labels,\n",
        "        bert_hub_module_handle)\n",
        "\n",
        "    output_spec = None\n",
        "\n",
        "    if mode == tf.estimator.ModeKeys.TRAIN:\n",
        "\n",
        "      train_op = optimization.create_optimizer(\n",
        "          total_loss, learning_rate, num_train_steps, num_warmup_steps, use_tpu)\n",
        "      output_spec = tf.contrib.tpu.TPUEstimatorSpec(\n",
        "          mode=mode,\n",
        "          loss=total_loss,\n",
        "          train_op=train_op)\n",
        "    elif mode == tf.estimator.ModeKeys.EVAL:\n",
        "\n",
        "      def metric_fn(per_example_loss, label_ids, logits):\n",
        "        predictions = tf.argmax(logits, axis=-1, output_type=tf.int32)\n",
        "        accuracy = tf.metrics.accuracy(label_ids, predictions)\n",
        "        loss = tf.metrics.mean(per_example_loss)\n",
        "        f1_score = tf.contrib.metrics.f1_score(label_ids, predictions)\n",
        "        return {\n",
        "            \"eval_accuracy\": accuracy,\n",
        "            \"eval_loss\": loss,\n",
        "            \"f1_score\": f1_score\n",
        "        }\n",
        "\n",
        "      eval_metrics = (metric_fn, [per_example_loss, label_ids, logits])\n",
        "      output_spec = tf.contrib.tpu.TPUEstimatorSpec(\n",
        "          mode=mode,\n",
        "          loss=total_loss,\n",
        "          eval_metrics=eval_metrics)\n",
        "    elif mode == tf.estimator.ModeKeys.PREDICT:\n",
        "      output_spec = tf.contrib.tpu.TPUEstimatorSpec(\n",
        "          mode=mode, predictions={\"probabilities\": probabilities})\n",
        "    else:\n",
        "      raise ValueError(\n",
        "          \"Only TRAIN, EVAL and PREDICT modes are supported: %s\" % (mode))\n",
        "\n",
        "    return output_spec\n",
        "\n",
        "  return model_fn\n"
      ],
      "execution_count": 0,
      "outputs": []
    },
    {
      "cell_type": "code",
      "metadata": {
        "id": "nwcsdbLuIX2I",
        "colab_type": "code",
        "outputId": "71d7ff5d-558a-4578-9e4a-4d21919d1a92",
        "colab": {
          "base_uri": "https://localhost:8080/",
          "height": 523
        }
      },
      "source": [
        "# Force TF Hub writes to the GS bucket we provide.\n",
        "os.environ['TFHUB_CACHE_DIR'] = OUTPUT_DIR\n",
        "\n",
        "model_fn = model_fn_builder(\n",
        "  num_labels=len(label_list),\n",
        "  learning_rate=LEARNING_RATE,\n",
        "  num_train_steps=num_train_steps,\n",
        "  num_warmup_steps=num_warmup_steps,\n",
        "  use_tpu=True,\n",
        "  bert_hub_module_handle=BERT_MODEL_HUB\n",
        ")\n",
        "\n",
        "estimator_from_tfhub = tf.contrib.tpu.TPUEstimator(\n",
        "  use_tpu=True,\n",
        "  model_fn=model_fn,\n",
        "  config=get_run_config(OUTPUT_DIR),\n",
        "  train_batch_size=TRAIN_BATCH_SIZE,\n",
        "  eval_batch_size=EVAL_BATCH_SIZE,\n",
        "  predict_batch_size=PREDICT_BATCH_SIZE,\n",
        ")"
      ],
      "execution_count": 0,
      "outputs": [
        {
          "output_type": "stream",
          "text": [
            "WARNING:tensorflow:Estimator's model_fn (<function model_fn_builder.<locals>.model_fn at 0x7f7531c46bf8>) includes params argument, but params are not passed to Estimator.\n"
          ],
          "name": "stdout"
        },
        {
          "output_type": "stream",
          "text": [
            "WARNING:tensorflow:Estimator's model_fn (<function model_fn_builder.<locals>.model_fn at 0x7f7531c46bf8>) includes params argument, but params are not passed to Estimator.\n"
          ],
          "name": "stderr"
        },
        {
          "output_type": "stream",
          "text": [
            "INFO:tensorflow:Using config: {'_model_dir': 'gs://bert-logs-zalo/bert-tfhub/models/WikiQAv5.0', '_tf_random_seed': None, '_save_summary_steps': 100, '_save_checkpoints_steps': 1000, '_save_checkpoints_secs': None, '_session_config': allow_soft_placement: true\n",
            "cluster_def {\n",
            "  job {\n",
            "    name: \"worker\"\n",
            "    tasks {\n",
            "      key: 0\n",
            "      value: \"10.95.83.234:8470\"\n",
            "    }\n",
            "  }\n",
            "}\n",
            "isolate_session_state: true\n",
            ", '_keep_checkpoint_max': 5, '_keep_checkpoint_every_n_hours': 10000, '_log_step_count_steps': None, '_train_distribute': None, '_device_fn': None, '_protocol': None, '_eval_distribute': None, '_experimental_distribute': None, '_experimental_max_worker_delay_secs': None, '_session_creation_timeout_secs': 7200, '_service': None, '_cluster_spec': <tensorflow.python.training.server_lib.ClusterSpec object at 0x7f7536fce5c0>, '_task_type': 'worker', '_task_id': 0, '_global_id_in_cluster': 0, '_master': 'grpc://10.95.83.234:8470', '_evaluation_master': 'grpc://10.95.83.234:8470', '_is_chief': True, '_num_ps_replicas': 0, '_num_worker_replicas': 1, '_tpu_config': TPUConfig(iterations_per_loop=1000, num_shards=8, num_cores_per_replica=None, per_host_input_for_training=3, tpu_job_name=None, initial_infeed_sleep_secs=None, input_partition_dims=None, eval_training_input_configuration=2, experimental_host_call_every_n_steps=1), '_cluster': <tensorflow.python.distribute.cluster_resolver.tpu_cluster_resolver.TPUClusterResolver object at 0x7f7536fd2f98>}\n"
          ],
          "name": "stdout"
        },
        {
          "output_type": "stream",
          "text": [
            "INFO:tensorflow:Using config: {'_model_dir': 'gs://bert-logs-zalo/bert-tfhub/models/WikiQAv5.0', '_tf_random_seed': None, '_save_summary_steps': 100, '_save_checkpoints_steps': 1000, '_save_checkpoints_secs': None, '_session_config': allow_soft_placement: true\n",
            "cluster_def {\n",
            "  job {\n",
            "    name: \"worker\"\n",
            "    tasks {\n",
            "      key: 0\n",
            "      value: \"10.95.83.234:8470\"\n",
            "    }\n",
            "  }\n",
            "}\n",
            "isolate_session_state: true\n",
            ", '_keep_checkpoint_max': 5, '_keep_checkpoint_every_n_hours': 10000, '_log_step_count_steps': None, '_train_distribute': None, '_device_fn': None, '_protocol': None, '_eval_distribute': None, '_experimental_distribute': None, '_experimental_max_worker_delay_secs': None, '_session_creation_timeout_secs': 7200, '_service': None, '_cluster_spec': <tensorflow.python.training.server_lib.ClusterSpec object at 0x7f7536fce5c0>, '_task_type': 'worker', '_task_id': 0, '_global_id_in_cluster': 0, '_master': 'grpc://10.95.83.234:8470', '_evaluation_master': 'grpc://10.95.83.234:8470', '_is_chief': True, '_num_ps_replicas': 0, '_num_worker_replicas': 1, '_tpu_config': TPUConfig(iterations_per_loop=1000, num_shards=8, num_cores_per_replica=None, per_host_input_for_training=3, tpu_job_name=None, initial_infeed_sleep_secs=None, input_partition_dims=None, eval_training_input_configuration=2, experimental_host_call_every_n_steps=1), '_cluster': <tensorflow.python.distribute.cluster_resolver.tpu_cluster_resolver.TPUClusterResolver object at 0x7f7536fd2f98>}\n"
          ],
          "name": "stderr"
        },
        {
          "output_type": "stream",
          "text": [
            "INFO:tensorflow:_TPUContext: eval_on_tpu True\n"
          ],
          "name": "stdout"
        },
        {
          "output_type": "stream",
          "text": [
            "INFO:tensorflow:_TPUContext: eval_on_tpu True\n"
          ],
          "name": "stderr"
        }
      ]
    },
    {
      "cell_type": "markdown",
      "metadata": {
        "id": "MGVYj_rlcDhc",
        "colab_type": "text"
      },
      "source": [
        "At this point, you can now fine-tune the model, evaluate it, and run predictions on it."
      ]
    },
    {
      "cell_type": "code",
      "metadata": {
        "id": "5U_c8s2AvhgL",
        "colab_type": "code",
        "colab": {}
      },
      "source": [
        "# Train the model\n",
        "def model_train(estimator):\n",
        "  # We'll set sequences to be at most 128 tokens long.\n",
        "  train_features = run_classifier.convert_examples_to_features(\n",
        "      train_InputExamples, label_list, MAX_SEQ_LENGTH, tokenizer)\n",
        "  print('***** Started training at {} *****'.format(datetime.datetime.now()))\n",
        "  print('  Num examples = {}'.format(len(train)))\n",
        "  print('  Batch size = {}'.format(TRAIN_BATCH_SIZE))\n",
        "  tf.logging.info(\"  Num steps = %d\", num_train_steps)\n",
        "  train_input_fn = run_classifier.input_fn_builder(\n",
        "      features=train_features,\n",
        "      seq_length=MAX_SEQ_LENGTH,\n",
        "      is_training=True,\n",
        "      drop_remainder=True)\n",
        "  estimator.train(input_fn=train_input_fn, max_steps=num_train_steps)\n",
        "  print('***** Finished training at {} *****'.format(datetime.datetime.now()))\n",
        "\n"
      ],
      "execution_count": 0,
      "outputs": []
    },
    {
      "cell_type": "code",
      "metadata": {
        "id": "TRhzyk4_WD2n",
        "colab_type": "code",
        "colab": {}
      },
      "source": [
        "model_train(estimator_from_tfhub)"
      ],
      "execution_count": 0,
      "outputs": []
    },
    {
      "cell_type": "code",
      "metadata": {
        "id": "eoXRtSPZvdiS",
        "colab_type": "code",
        "colab": {}
      },
      "source": [
        "def model_eval(estimator):\n",
        "  # Eval the model.\n",
        "  eval_features = run_classifier.convert_examples_to_features(\n",
        "      dev_InputExamples, label_list, MAX_SEQ_LENGTH, tokenizer)\n",
        "  print('***** Started evaluation at {} *****'.format(datetime.datetime.now()))\n",
        "  print('  Num examples = {}'.format(len(dev)))\n",
        "  print('  Batch size = {}'.format(EVAL_BATCH_SIZE))\n",
        "\n",
        "  # Eval will be slightly WRONG on the TPU because it will truncate\n",
        "  # the last batch.\n",
        "  eval_steps = int(len(dev) / EVAL_BATCH_SIZE)\n",
        "  eval_input_fn = run_classifier.input_fn_builder(\n",
        "      features=eval_features,\n",
        "      seq_length=MAX_SEQ_LENGTH,\n",
        "      is_training=False,\n",
        "      drop_remainder=True)\n",
        "  result = estimator.evaluate(input_fn=eval_input_fn, steps=eval_steps)\n",
        "  print('***** Finished evaluation at {} *****'.format(datetime.datetime.now()))\n",
        "  output_eval_file = os.path.join(OUTPUT_DIR, \"eval_results.txt\")\n",
        "  with tf.gfile.GFile(output_eval_file, \"w\") as writer:\n",
        "    print(\"***** Eval results *****\")\n",
        "    for key in sorted(result.keys()):\n",
        "      print('  {} = {}'.format(key, str(result[key])))\n",
        "      writer.write(\"%s = %s\\n\" % (key, str(result[key])))\n"
      ],
      "execution_count": 0,
      "outputs": []
    },
    {
      "cell_type": "code",
      "metadata": {
        "id": "lLQehBr4WHjj",
        "colab_type": "code",
        "colab": {}
      },
      "source": [
        "model_eval(estimator_from_tfhub)"
      ],
      "execution_count": 0,
      "outputs": []
    },
    {
      "cell_type": "code",
      "metadata": {
        "id": "H3_afEMR3dfa",
        "colab_type": "code",
        "colab": {}
      },
      "source": [
        "def model_predict(estimator, prediction_examples):\n",
        "  eval_features = run_classifier.convert_examples_to_features(\n",
        "      prediction_examples, label_list, MAX_SEQ_LENGTH, tokenizer)\n",
        "  predict_input_fn = run_classifier.input_fn_builder(features=eval_features, seq_length=MAX_SEQ_LENGTH, is_training=False, drop_remainder=True)\n",
        "  predictions = estimator.predict(predict_input_fn)\n",
        "  pred_dict = {}\n",
        "  pred_dict[\"question\"] = [] \n",
        "  pred_dict[\"text\"] = [] \n",
        "  pred_dict[\"label\"] = [] \n",
        "  pred_dict[\"pred\"] = []\n",
        "  for example, prediction in zip(prediction_examples, predictions):\n",
        "    pred_dict[\"question\"].append(example.text_a)\n",
        "    pred_dict[\"text\"].append(example.text_b)\n",
        "    pred_dict[\"label\"].append(example.label)\n",
        "    pred_dict[\"pred\"].append(np.squeeze(np.argmax(prediction['probabilities'], axis=-1)))\n",
        "  #   print('text_a: %s\\ntext_b: %s\\nlabel:%s\\nprediction:%s\\n' % (example.text_a, example.text_b, str(example.label), prediction['labels']))\n",
        "  df = pd.DataFrame.from_dict(pred_dict)\n",
        "  return df"
      ],
      "execution_count": 0,
      "outputs": []
    },
    {
      "cell_type": "code",
      "metadata": {
        "id": "ynDmeatCWLJK",
        "colab_type": "code",
        "colab": {}
      },
      "source": [
        "df_pred = model_predict(estimator_from_tfhub, dev_InputExamples)"
      ],
      "execution_count": 0,
      "outputs": []
    },
    {
      "cell_type": "code",
      "metadata": {
        "id": "xcVjbQoeln2o",
        "colab_type": "code",
        "outputId": "4ce18b49-dac0-471e-c36a-17f8327bf8da",
        "colab": {
          "base_uri": "https://localhost:8080/",
          "height": 278
        }
      },
      "source": [
        "from sklearn.metrics import f1_score, classification_report, accuracy_score, confusion_matrix\n",
        "print('***F1 SCORE DEV***')\n",
        "print(f1_score(df_pred['label'],df_pred['pred']))\n",
        "print('***REPORT DEV***')\n",
        "print(classification_report(df_pred['label'],df_pred['pred']))\n",
        "print('***CONFUSION MATRIX***')\n",
        "print(confusion_matrix(df_pred['label'],df_pred['pred']))"
      ],
      "execution_count": 0,
      "outputs": [
        {
          "output_type": "stream",
          "text": [
            "***F1 SCORE DEV***\n",
            "0.7999999999999999\n",
            "***REPORT DEV***\n",
            "              precision    recall  f1-score   support\n",
            "\n",
            "           0       0.91      0.92      0.91       126\n",
            "           1       0.81      0.79      0.80        56\n",
            "\n",
            "    accuracy                           0.88       182\n",
            "   macro avg       0.86      0.85      0.86       182\n",
            "weighted avg       0.88      0.88      0.88       182\n",
            "\n",
            "***CONFUSION MATRIX***\n",
            "[[116  10]\n",
            " [ 12  44]]\n"
          ],
          "name": "stdout"
        }
      ]
    },
    {
      "cell_type": "code",
      "metadata": {
        "id": "YdEivyZy6DQl",
        "colab_type": "code",
        "colab": {}
      },
      "source": [
        "df_pred_train = model_predict(estimator_from_tfhub, train_InputExamples)"
      ],
      "execution_count": 0,
      "outputs": []
    },
    {
      "cell_type": "code",
      "metadata": {
        "id": "DtsY0oEXAe7D",
        "colab_type": "code",
        "outputId": "dcf8c112-efd2-4582-dae5-331500c34bad",
        "colab": {
          "base_uri": "https://localhost:8080/",
          "height": 260
        }
      },
      "source": [
        "print('***ACCURACY TRAIN***')\n",
        "print(accuracy_score(df_pred_train['label'],df_pred_train['pred']))\n",
        "print('***F1 SCORE TRAIN***')\n",
        "print(f1_score(df_pred_train['label'],df_pred_train['pred']))\n",
        "print('***REPORT TRAIN***')\n",
        "print(classification_report(df_pred_train['label'],df_pred_train['pred']))"
      ],
      "execution_count": 0,
      "outputs": [
        {
          "output_type": "stream",
          "text": [
            "***ACCURACY TRAIN***\n",
            "0.9818141247350217\n",
            "***F1 SCORE TRAIN***\n",
            "0.971528384279476\n",
            "***REPORT TRAIN***\n",
            "              precision    recall  f1-score   support\n",
            "\n",
            "           0       0.99      0.98      0.99     12244\n",
            "           1       0.96      0.98      0.97      5682\n",
            "\n",
            "    accuracy                           0.98     17926\n",
            "   macro avg       0.98      0.98      0.98     17926\n",
            "weighted avg       0.98      0.98      0.98     17926\n",
            "\n"
          ],
          "name": "stdout"
        }
      ]
    },
    {
      "cell_type": "code",
      "metadata": {
        "id": "AbHMheIfLHro",
        "colab_type": "code",
        "colab": {}
      },
      "source": [
        "df_pred['text_len'] = df_pred['text'].apply(lambda x: len(x.split(' ')))"
      ],
      "execution_count": 0,
      "outputs": []
    },
    {
      "cell_type": "code",
      "metadata": {
        "id": "TWvlVGnoLd9_",
        "colab_type": "code",
        "outputId": "0e39550d-6fc5-4aa6-9981-84b391d9c580",
        "colab": {
          "base_uri": "https://localhost:8080/",
          "height": 280
        }
      },
      "source": [
        "import seaborn as sns\n",
        "import matplotlib.pyplot as plt\n",
        "sns.distplot(df_pred[(df_pred['label']==1)&(df_pred['pred']==1)]['text_len'])\n",
        "sns.distplot(df_pred[(df_pred['label']==1)&(df_pred['pred']==0)]['text_len'])\n",
        "plt.show()"
      ],
      "execution_count": 0,
      "outputs": [
        {
          "output_type": "display_data",
          "data": {
            "image/png": "[encoded data removed]",
            "text/plain": [
              "<Figure size 432x288 with 1 Axes>"
            ]
          },
          "metadata": {
            "tags": []
          }
        }
      ]
    },
    {
      "cell_type": "code",
      "metadata": {
        "id": "AfwmUJlyH0q-",
        "colab_type": "code",
        "colab": {}
      },
      "source": [
        "er = df_pred[(df_pred['label']==1)&(df_pred['pred']==0)].head(100).reset_index(drop=True)"
      ],
      "execution_count": 0,
      "outputs": []
    },
    {
      "cell_type": "code",
      "metadata": {
        "id": "i7pwHEIjSYyw",
        "colab_type": "code",
        "colab": {}
      },
      "source": [
        "er['question_tok'] = er['question'].apply(lambda x:tokenizer.tokenize(x))\n",
        "er['text_tok'] = er['text'].apply(lambda x:tokenizer.tokenize(x))"
      ],
      "execution_count": 0,
      "outputs": []
    },
    {
      "cell_type": "code",
      "metadata": {
        "id": "umay2OOMSB1O",
        "colab_type": "code",
        "outputId": "d72d2777-8316-4faa-9e5e-d512461eead7",
        "colab": {
          "base_uri": "https://localhost:8080/",
          "height": 380
        }
      },
      "source": [
        "er.head()"
      ],
      "execution_count": 0,
      "outputs": [
        {
          "output_type": "execute_result",
          "data": {
            "text/html": [
              "<div>\n",
              "<style scoped>\n",
              "    .dataframe tbody tr th:only-of-type {\n",
              "        vertical-align: middle;\n",
              "    }\n",
              "\n",
              "    .dataframe tbody tr th {\n",
              "        vertical-align: top;\n",
              "    }\n",
              "\n",
              "    .dataframe thead th {\n",
              "        text-align: right;\n",
              "    }\n",
              "</style>\n",
              "<table border=\"1\" class=\"dataframe\">\n",
              "  <thead>\n",
              "    <tr style=\"text-align: right;\">\n",
              "      <th></th>\n",
              "      <th>question</th>\n",
              "      <th>text</th>\n",
              "      <th>label</th>\n",
              "      <th>pred</th>\n",
              "      <th>text_len</th>\n",
              "      <th>question_tok</th>\n",
              "      <th>text_tok</th>\n",
              "    </tr>\n",
              "  </thead>\n",
              "  <tbody>\n",
              "    <tr>\n",
              "      <th>0</th>\n",
              "      <td>Bettoven viết bản sonat ánh trăng để tặng cho ai</td>\n",
              "      <td>Ludwig van Beethoven viết bản sonata này dành ...</td>\n",
              "      <td>1</td>\n",
              "      <td>0</td>\n",
              "      <td>64</td>\n",
              "      <td>[Bet, ##tov, ##en, viết, bản, sona, ##t, ánh, ...</td>\n",
              "      <td>[Ludwig, van, Beethoven, viết, bản, sona, ##ta...</td>\n",
              "    </tr>\n",
              "    <tr>\n",
              "      <th>1</th>\n",
              "      <td>Biểu tượng của Canada</td>\n",
              "      <td>Cô và Kevin Reynolds là cả hai biểu tượng trượ...</td>\n",
              "      <td>1</td>\n",
              "      <td>0</td>\n",
              "      <td>12</td>\n",
              "      <td>[Bi, ##ểu, tượng, của, Canada]</td>\n",
              "      <td>[Cô, và, Kevin, Reynolds, là, cả, hai, biểu, t...</td>\n",
              "    </tr>\n",
              "    <tr>\n",
              "      <th>2</th>\n",
              "      <td>Ấp Hà Đông, tiền thân của làng hoa đầu tiên ở ...</td>\n",
              "      <td>Diện tích đất khai phá ban đầu ở Ấp Hà Đông ch...</td>\n",
              "      <td>1</td>\n",
              "      <td>0</td>\n",
              "      <td>100</td>\n",
              "      <td>[Ấ, ##p, Hà, Đông, ,, tiền, thân, của, làng, h...</td>\n",
              "      <td>[Di, ##ện, tích, đất, khai, phá, ban, đầu, ở, ...</td>\n",
              "    </tr>\n",
              "    <tr>\n",
              "      <th>3</th>\n",
              "      <td>Thành phố nào là thủ đô của Ba Lan</td>\n",
              "      <td>Vác-sa-va là thủ đô của Ba Lan</td>\n",
              "      <td>1</td>\n",
              "      <td>0</td>\n",
              "      <td>7</td>\n",
              "      <td>[Thành, phố, nào, là, thủ, đô, của, Ba, Lan]</td>\n",
              "      <td>[V, ##ác, -, sa, -, va, là, thủ, đô, của, Ba, ...</td>\n",
              "    </tr>\n",
              "    <tr>\n",
              "      <th>4</th>\n",
              "      <td>Pháp tấn công xâm lược Việt Nam vào ngày tháng...</td>\n",
              "      <td>Năm 1958, thực dân Pháp nổ súng tấn công bán đ...</td>\n",
              "      <td>1</td>\n",
              "      <td>0</td>\n",
              "      <td>51</td>\n",
              "      <td>[Pháp, tấn, công, xâm, lược, Việt, Nam, vào, n...</td>\n",
              "      <td>[Năm, 1958, ,, thực, dân, Pháp, nổ, súng, tấn,...</td>\n",
              "    </tr>\n",
              "  </tbody>\n",
              "</table>\n",
              "</div>"
            ],
            "text/plain": [
              "                                            question  ...                                           text_tok\n",
              "0   Bettoven viết bản sonat ánh trăng để tặng cho ai  ...  [Ludwig, van, Beethoven, viết, bản, sona, ##ta...\n",
              "1                              Biểu tượng của Canada  ...  [Cô, và, Kevin, Reynolds, là, cả, hai, biểu, t...\n",
              "2  Ấp Hà Đông, tiền thân của làng hoa đầu tiên ở ...  ...  [Di, ##ện, tích, đất, khai, phá, ban, đầu, ở, ...\n",
              "3                 Thành phố nào là thủ đô của Ba Lan  ...  [V, ##ác, -, sa, -, va, là, thủ, đô, của, Ba, ...\n",
              "4  Pháp tấn công xâm lược Việt Nam vào ngày tháng...  ...  [Năm, 1958, ,, thực, dân, Pháp, nổ, súng, tấn,...\n",
              "\n",
              "[5 rows x 7 columns]"
            ]
          },
          "metadata": {
            "tags": []
          },
          "execution_count": 30
        }
      ]
    },
    {
      "cell_type": "code",
      "metadata": {
        "id": "U36NJS7yKwCv",
        "colab_type": "code",
        "outputId": "755b1a2f-b2df-48ad-8842-4f8898019c26",
        "colab": {
          "base_uri": "https://localhost:8080/",
          "height": 1000
        }
      },
      "source": [
        "for i in range(0,len(er)):\n",
        "  print('question: %s\\nanswer: %s\\nprediction:%s\\nquestion_tok: %s\\ntext_tok: %s\\n' % (er.loc[i]['question'],er.loc[i]['text'],er.loc[i]['pred'],er.loc[i]['question_tok'],er.loc[i]['text_tok']))\n"
      ],
      "execution_count": 0,
      "outputs": [
        {
          "output_type": "stream",
          "text": [
            "question: Bettoven viết bản sonat ánh trăng để tặng cho ai\n",
            "answer: Ludwig van Beethoven viết bản sonata này dành cho cô học sinh dương cầm 17 tuổi của ông Gräfin Giulietta Guicciardi (1784–1856) vào năm 1801 và sau khi ông mất vài năm thì bản sonate được nhà phê bình âm nhạc Ludwig Rellstab đặt cho cái tên phổ biến như bây giờ, ông đã so sánh bản nhạc với ánh trăng trên hồ Lucerne.\n",
            "prediction:0\n",
            "question_tok: ['Bet', '##tov', '##en', 'viết', 'bản', 'sona', '##t', 'ánh', 'tr', '##ăng', 'để', 'tặng', 'cho', 'ai']\n",
            "text_tok: ['Ludwig', 'van', 'Beethoven', 'viết', 'bản', 'sona', '##ta', 'này', 'dành', 'cho', 'cô', 'học', 'sinh', 'dương', 'cầm', '17', 'tuổi', 'của', 'ông', 'Gräfin', 'G', '##iul', '##iet', '##ta', 'G', '##ui', '##ccia', '##rdi', '(', '1784', '[UNK]', '1856', ')', 'vào', 'năm', '1801', 'và', 'sau', 'khi', 'ông', 'mất', 'vài', 'năm', 'thì', 'bản', 'sona', '##te', 'được', 'nhà', 'phê', 'bình', 'âm', 'nhạc', 'Ludwig', 'Re', '##lls', '##tab', 'đặt', 'cho', 'cái', 'tên', 'phổ', 'biến', 'như', 'b', '##ây', 'giờ', ',', 'ông', 'đã', 'so', 's', '##ánh', 'bản', 'nhạc', 'với', 'ánh', 'tr', '##ăng', 'trên', 'hồ', 'Luce', '##rne', '.']\n",
            "\n",
            "question: Biểu tượng của Canada\n",
            "answer: Cô và Kevin Reynolds là cả hai biểu tượng trượt băng Canada.\n",
            "prediction:0\n",
            "question_tok: ['Bi', '##ểu', 'tượng', 'của', 'Canada']\n",
            "text_tok: ['Cô', 'và', 'Kevin', 'Reynolds', 'là', 'cả', 'hai', 'biểu', 'tượng', 'tr', '##ư', '##ợt', 'băng', 'Canada', '.']\n",
            "\n",
            "question: Ấp Hà Đông, tiền thân của làng hoa đầu tiên ở Đà Lạt thành lập từ năm nào\n",
            "answer: Diện tích đất khai phá ban đầu ở Ấp Hà Đông chỉ từ vài chục ha lên hàng trăm ha, bà con vừa xây dựng nhà cửa vừa trồng trọt các loại rau hoa mang từ Hà Nội vào. Từ năm 1941, ấp Hà Đông bắt đầu làm ăn phát đạt nhờ nghề trồng hoa và rau cải nầy. Cuối năm 1941, có tất cả 28 gia đình ở ấp Hà Đông, tổng số 100 nhân khẩu. Việc thành lập ấp Hà Đông tạo tiền đề cho hoạt động sản xuất trồng rau và hoa của Đà Lạt sau này.\n",
            "prediction:0\n",
            "question_tok: ['Ấ', '##p', 'Hà', 'Đông', ',', 'tiền', 'thân', 'của', 'làng', 'hoa', 'đầu', 'tiên', 'ở', 'Đà', 'L', '##ạt', 'thành', 'lập', 'từ', 'năm', 'nào']\n",
            "text_tok: ['Di', '##ện', 'tích', 'đất', 'khai', 'phá', 'ban', 'đầu', 'ở', 'Ấ', '##p', 'Hà', 'Đông', 'chỉ', 'từ', 'vài', 'ch', '##ục', 'ha', 'lên', 'hàng', 'tr', '##ăm', 'ha', ',', 'bà', 'con', 'vừa', 'xây', 'dựng', 'nhà', 'cửa', 'vừa', 'trồng', 'tr', '##ọt', 'các', 'loại', 'ra', '##u', 'hoa', 'mang', 'từ', 'Hà', 'Nội', 'vào', '.', 'Từ', 'năm', '1941', ',', 'ấ', '##p', 'Hà', 'Đông', 'bắt', 'đầu', 'làm', 'ăn', 'phát', 'đạt', 'nhờ', 'nghề', 'trồng', 'hoa', 'và', 'ra', '##u', 'cải', 'n', '##ầy', '.', 'Cuối', 'năm', '1941', ',', 'có', 'tất', 'cả', '28', 'gia', 'đình', 'ở', 'ấ', '##p', 'Hà', 'Đông', ',', 'tổng', 'số', '100', 'nhân', 'khẩu', '.', 'Việc', 'thành', 'lập', 'ấ', '##p', 'Hà', 'Đông', 'tạo', 'tiền', 'đề', 'cho', 'hoạt', 'động', 'sản', 'xuất', 'trồng', 'ra', '##u', 'và', 'hoa', 'của', 'Đà', 'L', '##ạt', 'sau', 'này', '.']\n",
            "\n",
            "question: Thành phố nào là thủ đô của Ba Lan\n",
            "answer: Vác-sa-va là thủ đô của Ba Lan\n",
            "prediction:0\n",
            "question_tok: ['Thành', 'phố', 'nào', 'là', 'thủ', 'đô', 'của', 'Ba', 'Lan']\n",
            "text_tok: ['V', '##ác', '-', 'sa', '-', 'va', 'là', 'thủ', 'đô', 'của', 'Ba', 'Lan']\n",
            "\n",
            "question: Pháp tấn công xâm lược Việt Nam vào ngày tháng năm nào\n",
            "answer: Năm 1958, thực dân Pháp nổ súng tấn công bán đảo Sơn Trà (Đà Nẵng), chính thức xâm lược nước ta. Năm 1884, thực dân Pháp buộc triều đình nhà Nguyễn phải ký hòa ước Pa-tơ-nốt, chấp nhận ách thống trị của thực dân Pháp trên toàn bờ cõi Việt Nam.\n",
            "prediction:0\n",
            "question_tok: ['Pháp', 'tấn', 'công', 'xâm', 'lược', 'Việt', 'Nam', 'vào', 'ngày', 'tháng', 'năm', 'nào']\n",
            "text_tok: ['Năm', '1958', ',', 'thực', 'dân', 'Pháp', 'nổ', 'súng', 'tấn', 'công', 'bán', 'đảo', 'Sơn', 'T', '##rà', '(', 'Đà', 'N', '##ẵ', '##ng', ')', ',', 'chính', 'thức', 'xâm', 'lược', 'nước', 'ta', '.', 'Năm', '1884', ',', 'thực', 'dân', 'Pháp', 'buộc', 'triều', 'đình', 'nhà', 'Nguyễn', 'phải', 'ký', 'hòa', 'ước', 'Pa', '-', 't', '##ơ', '-', 'n', '##ốt', ',', 'chấp', 'nhận', 'á', '##ch', 'thống', 'trị', 'của', 'thực', 'dân', 'Pháp', 'trên', 'toàn', 'bờ', 'c', '##õi', 'Việt', 'Nam', '.']\n",
            "\n",
            "question: Cậu vàng là nhân vật trong tác phẩm nào\n",
            "answer: 'Cậu Vàng', chuyển thể từ truyện ngắn 'Lão Hạc' của nhà văn Nam Cao, là phim điện ảnh Việt Nam đầu tiên có diễn viên chính là một chú chó.\n",
            "prediction:0\n",
            "question_tok: ['C', '##ậu', 'vàng', 'là', 'nhân', 'vật', 'trong', 'tác', 'phẩm', 'nào']\n",
            "text_tok: [\"'\", 'C', '##ậu', 'Và', '##ng', \"'\", ',', 'chuyển', 'thể', 'từ', 'truyện', 'ngắn', \"'\", 'L', '##ão', 'Hạ', '##c', \"'\", 'của', 'nhà', 'văn', 'Nam', 'Cao', ',', 'là', 'phim', 'điện', 'ảnh', 'Việt', 'Nam', 'đầu', 'tiên', 'có', 'diễn', 'viên', 'chính', 'là', 'một', 'chú', 'chó', '.']\n",
            "\n",
            "question: Triều đại nhà Lý nước ta có bao nhiêu vị vua\n",
            "answer: Lý Chiêu Hoàng là vị vua thứ 9 và cũng chính là vị vua cuối cùng của triều đại nhà Lý. Bà trị vì đất nước trong 1 năm, kể từ năm 1224 đến 1225. Trong lịch sử Việt Nam, Lý Chiêu Hoàng là người phụ nữ đầu tiên và cũng là duy nhất nắm quyền triều chính. Bà được vua cha là Lý Huệ Tông truyền ngôi, do sự sắp đặt của  Trần Thủ Độ , là người có quyền lực lớn trong triều đình lúc bấy giờ.\n",
            "prediction:0\n",
            "question_tok: ['Triều', 'đại', 'nhà', 'Lý', 'nước', 'ta', 'có', 'bao', 'n', '##hi', '##êu', 'vị', 'vua']\n",
            "text_tok: ['Lý', 'Chi', '##êu', 'Hoàng', 'là', 'vị', 'vua', 'thứ', '9', 'và', 'cũng', 'chính', 'là', 'vị', 'vua', 'cuối', 'cùng', 'của', 'triều', 'đại', 'nhà', 'Lý', '.', 'Bà', 'trị', 'vì', 'đất', 'nước', 'trong', '1', 'năm', ',', 'kể', 'từ', 'năm', '1224', 'đến', '1225', '.', 'Trong', 'lịch', 'sử', 'Việt', 'Nam', ',', 'Lý', 'Chi', '##êu', 'Hoàng', 'là', 'người', 'phụ', 'nữ', 'đầu', 'tiên', 'và', 'cũng', 'là', 'duy', 'nhất', 'nắm', 'quyền', 'triều', 'chính', '.', 'Bà', 'được', 'vua', 'cha', 'là', 'Lý', 'Hu', '##ệ', 'Tông', 'truyền', 'ngôi', ',', 'do', 'sự', 's', '##ắp', 'đặt', 'của', 'Trần', 'Thủ', 'Độ', ',', 'là', 'người', 'có', 'quyền', 'lực', 'lớn', 'trong', 'triều', 'đình', 'lúc', 'b', '##ấy', 'giờ', '.']\n",
            "\n",
            "question: người nào là chủ tịch ủy ban nhân dân của thành phố Sài Gòn\n",
            "answer: Nguyễn Thành Phong (sinh năm 1962) là một chính trị gia người Việt Nam. Ông hiện là Chủ tịch Ủy ban Nhân dân Thành phố Hồ Chí Minh. Trong Đảng Cộng sản Việt Nam, ông hiện giữ chức Ủy viên Ban Chấp hành Trung ương Đảng Cộng sản Việt Nam khóa XII, Phó Bí thư Thành ủy TP Hồ Chí Minh.\n",
            "prediction:0\n",
            "question_tok: ['người', 'nào', 'là', 'chủ', 'tịch', 'ủy', 'ban', 'nhân', 'dân', 'của', 'thành', 'phố', 'Sài', 'Gòn']\n",
            "text_tok: ['Nguyễn', 'Thành', 'Phong', '(', 'sinh', 'năm', '1962', ')', 'là', 'một', 'chính', 'trị', 'gia', 'người', 'Việt', 'Nam', '.', 'Ông', 'hiện', 'là', 'Chủ', 'tịch', 'Ủy', 'ban', 'Nhân', 'dân', 'Thành', 'phố', 'Hồ', 'Chí', 'Minh', '.', 'Trong', 'Đảng', 'Cộng', 'sản', 'Việt', 'Nam', ',', 'ông', 'hiện', 'giữ', 'chức', 'Ủy', 'viên', 'Ban', 'Ch', '##ấp', 'hành', 'Trung', 'ương', 'Đảng', 'Cộng', 'sản', 'Việt', 'Nam', 'khóa', 'XII', ',', 'Phó', 'Bí', 'thư', 'Thành', 'ủy', 'TP', 'Hồ', 'Chí', 'Minh', '.']\n",
            "\n",
            "question: trái đất có bao nhiêu bán cầu\n",
            "answer: Kinh tuyến là một nửa đường tròn trên bề mặt Trái Đất , nối liền hai Địa cực , có độ dài khoảng 20.000  km , chỉ hướng bắc-nam và cắt thẳng góc với đường xích đạo . Mặt phẳng của kinh tuyến 0 ° ( chạy qua đài quan sát thiên văn tại Greenwich thuộc Luân Đôn ) và kinh tuyến 180 ° , chia Trái Đất ra làm hai bán cầu – Bán cầu đông và Bán cầu tây .\n",
            "prediction:0\n",
            "question_tok: ['trái', 'đất', 'có', 'bao', 'n', '##hi', '##êu', 'bán', 'cầu']\n",
            "text_tok: ['Kinh', 'tuyến', 'là', 'một', 'nửa', 'đường', 'tròn', 'trên', 'bề', 'mặt', 'Trái', 'Đất', ',', 'nối', 'liền', 'hai', 'Địa', 'cực', ',', 'có', 'độ', 'dài', 'khoảng', '20', '.', '000', 'km', ',', 'chỉ', 'hướng', 'bắc', '-', 'nam', 'và', 'cắt', 'thẳng', 'g', '##óc', 'với', 'đường', 'x', '##ích', 'đạo', '.', 'Mặt', 'ph', '##ẳng', 'của', 'kinh', 'tuyến', '0', '°', '(', 'chạy', 'qua', 'đài', 'quan', 'sát', 'thiên', 'văn', 'tại', 'Greenwich', 'thuộc', 'Lu', '##ân', 'Đô', '##n', ')', 'và', 'kinh', 'tuyến', '180', '°', ',', 'chia', 'Trái', 'Đất', 'ra', 'làm', 'hai', 'bán', 'cầu', '[UNK]', 'B', '##án', 'cầu', 'đông', 'và', 'B', '##án', 'cầu', 'tây', '.']\n",
            "\n",
            "question: Cách trình bày mâm ngũ quả của người Bắc theo quan niệm gì\n",
            "answer: Màu sắc của mâm thường hay tuân theo ngũ hành. Các loại quả dùng thường mang các sắc màu theo quan niệm là có tính may mắn: đỏ (may mắn phú quý), vàng (sung túc)...\n",
            "prediction:0\n",
            "question_tok: ['Cách', 'trình', 'bày', 'm', '##âm', 'ng', '##ũ', 'quả', 'của', 'người', 'Bắc', 'theo', 'quan', 'niệm', 'gì']\n",
            "text_tok: ['M', '##àu', 'sắc', 'của', 'm', '##âm', 'thường', 'hay', 'tu', '##ân', 'theo', 'ng', '##ũ', 'hành', '.', 'Các', 'loại', 'quả', 'dùng', 'thường', 'mang', 'các', 'sắc', 'màu', 'theo', 'quan', 'niệm', 'là', 'có', 'tính', 'may', 'm', '##ắn', ':', 'đỏ', '(', 'may', 'm', '##ắn', 'ph', '##ú', 'quý', ')', ',', 'vàng', '(', 'sung', 'tú', '##c', ')', '.', '.', '.']\n",
            "\n",
            "question: Có bao nhiêu bệnh lây nhiễm qua đường tình dục không thể chữa khỏi hoàn toàn\n",
            "answer: Phòng ngừa là biện pháp chính trong việc phòng các bệnh lây qua đường tình dục không chữa được, chẳng hạn như HIV và Herpes sinh dục.\n",
            "prediction:0\n",
            "question_tok: ['Có', 'bao', 'n', '##hi', '##êu', 'bệnh', 'l', '##ây', 'nhiễm', 'qua', 'đường', 'tình', 'dục', 'không', 'thể', 'chữa', 'khỏi', 'hoàn', 'toàn']\n",
            "text_tok: ['Phòng', 'ng', '##ừa', 'là', 'bi', '##ện', 'pháp', 'chính', 'trong', 'việc', 'phòng', 'các', 'bệnh', 'l', '##ây', 'qua', 'đường', 'tình', 'dục', 'không', 'chữa', 'được', ',', 'chẳng', 'hạn', 'như', 'HIV', 'và', 'Her', '##pes', 'sinh', 'dục', '.']\n",
            "\n",
            "question: Tên gọi cổ xưa nhất của Malaysia là gì\n",
            "answer: Người Tamil cổ đại gọi bán đảo Mã Lai là \"Suvarnadvipa\" hay \"bán đảo hoàng kim\". Bán đảo được thể hiện trong bản đổ của Ptolemaeus với tên \"bán đảo hoàng kim\", ông thể hiện eo biển Malacca với tên \"Sinus Sabaricus\". Quan hệ mậu dịch với Trung Hoa và Ấn Độ được thiết lập trong thế kỷ 1 TCN. Những mảnh vỡ đồ gốm Trung Hoa phát hiện được tại Borneo có niên đại từ thế kỷ 1 sau khi nhà Hán khuếch trương về phía nam. Trong những thế kỷ đầu tiên của thiên niên kỷ thứ nhất, dân cư tại bán đảo Mã Lai tiếp nhận các tôn giáo Ấn Độ là Ấn Độ giáo và Phật giáo, chúng có tác động lớn về ngôn ngữ và văn hóa của dân cư tại Malaysia. Hệ thống chữ viết tiếng Phạn được sử dụng ngay từ thế kỷ 4.\n",
            "prediction:0\n",
            "question_tok: ['Tên', 'gọi', 'cổ', 'xưa', 'nhất', 'của', 'Malaysia', 'là', 'gì']\n",
            "text_tok: ['Người', 'Tamil', 'cổ', 'đại', 'gọi', 'bán', 'đảo', 'Mã', 'Lai', 'là', '\"', 'Suva', '##rna', '##d', '##vi', '##pa', '\"', 'hay', '\"', 'bán', 'đảo', 'hoàng', 'kim', '\"', '.', 'B', '##án', 'đảo', 'được', 'thể', 'hiện', 'trong', 'bản', 'đổ', 'của', 'Pt', '##ole', '##ma', '##eus', 'với', 'tên', '\"', 'bán', 'đảo', 'hoàng', 'kim', '\"', ',', 'ông', 'thể', 'hiện', 'eo', 'biển', 'Mala', '##cca', 'với', 'tên', '\"', 'Sin', '##us', 'Saba', '##ricu', '##s', '\"', '.', 'Quan', 'hệ', 'm', '##ậu', 'dịch', 'với', 'Trung', 'Hoa', 'và', 'Ấn', 'Độ', 'được', 'thiết', 'lập', 'trong', 'thế', 'kỷ', '1', 'TCN', '.', 'Những', 'm', '##ản', '##h', 'v', '##ỡ', 'đồ', 'g', '##ố', '##m', 'Trung', 'Hoa', 'phát', 'hiện', 'được', 'tại', 'Borneo', 'có', 'niên', 'đại', 'từ', 'thế', 'kỷ', '1', 'sau', 'khi', 'nhà', 'Hán', 'khu', '##ếc', '##h', 'tr', '##ương', 'về', 'phía', 'nam', '.', 'Trong', 'những', 'thế', 'kỷ', 'đầu', 'tiên', 'của', 'thiên', 'niên', 'kỷ', 'thứ', 'nhất', ',', 'dân', 'cư', 'tại', 'bán', 'đảo', 'Mã', 'Lai', 'tiếp', 'nhận', 'các', 'tôn', 'giáo', 'Ấn', 'Độ', 'là', 'Ấn', 'Độ', 'giáo', 'và', 'Phật', 'giáo', ',', 'chúng', 'có', 'tác', 'động', 'lớn', 'về', 'ngôn', 'ngữ', 'và', 'văn', 'hóa', 'của', 'dân', 'cư', 'tại', 'Malaysia', '.', 'Hệ', 'thống', 'chữ', 'viết', 'tiếng', 'Ph', '##ạn', 'được', 'sử', 'dụng', 'ngay', 'từ', 'thế', 'kỷ', '4', '.']\n",
            "\n"
          ],
          "name": "stdout"
        }
      ]
    },
    {
      "cell_type": "code",
      "metadata": {
        "id": "YWVuwQUsn6wS",
        "colab_type": "code",
        "outputId": "36a9e61b-88c6-4427-c5f2-e1de0f947804",
        "colab": {
          "base_uri": "https://localhost:8080/",
          "height": 52
        }
      },
      "source": [
        "test_dict = download('https://dl.challenge.zalo.ai/ZAC2019_VietnameseWikiQA/test.zip','test')"
      ],
      "execution_count": 0,
      "outputs": [
        {
          "output_type": "stream",
          "text": [
            "Downloading data from https://dl.challenge.zalo.ai/ZAC2019_VietnameseWikiQA/test.zip\n",
            "262144/257843 [==============================] - 1s 2us/step\n"
          ],
          "name": "stdout"
        }
      ]
    },
    {
      "cell_type": "code",
      "metadata": {
        "id": "5Ovgkah8o5NA",
        "colab_type": "code",
        "colab": {}
      },
      "source": [
        "from pandas.io.json import json_normalize\n",
        "test = json_normalize(test_dict,'paragraphs',['__id__','question','title'])"
      ],
      "execution_count": 0,
      "outputs": []
    },
    {
      "cell_type": "code",
      "metadata": {
        "id": "22fCbSSstfDg",
        "colab_type": "code",
        "colab": {}
      },
      "source": [
        "test_InputExamples = test.apply(lambda x: run_classifier.InputExample(guid=None, # Globally unique ID for bookkeeping, unused in this example\n",
        "                                                                   text_a = x['question'], \n",
        "                                                                   text_b = x['text'], \n",
        "                                                                   label = 0), axis = 1)"
      ],
      "execution_count": 0,
      "outputs": []
    },
    {
      "cell_type": "code",
      "metadata": {
        "id": "p6qmQuT8xj_O",
        "colab_type": "code",
        "colab": {}
      },
      "source": [
        "df_test = model_predict(estimator_from_tfhub, test_InputExamples)"
      ],
      "execution_count": 0,
      "outputs": []
    },
    {
      "cell_type": "code",
      "metadata": {
        "id": "be8WjJaG0rIO",
        "colab_type": "code",
        "outputId": "42217f8b-5e1e-4d1c-ccd4-070d1158f5cb",
        "colab": {
          "base_uri": "https://localhost:8080/",
          "height": 34
        }
      },
      "source": [
        "len(test)"
      ],
      "execution_count": 0,
      "outputs": [
        {
          "output_type": "execute_result",
          "data": {
            "text/plain": [
              "2678"
            ]
          },
          "metadata": {
            "tags": []
          },
          "execution_count": 36
        }
      ]
    },
    {
      "cell_type": "code",
      "metadata": {
        "id": "XC2395VMztM4",
        "colab_type": "code",
        "colab": {}
      },
      "source": [
        "df_sub = pd.merge(test,df_test,left_index=True,right_index=True)"
      ],
      "execution_count": 0,
      "outputs": []
    },
    {
      "cell_type": "code",
      "metadata": {
        "id": "Ze01th4-5c4T",
        "colab_type": "code",
        "colab": {}
      },
      "source": [
        "df_final = df_sub[df_sub['pred']==1][['__id__','id']].reset_index(drop=True)"
      ],
      "execution_count": 0,
      "outputs": []
    },
    {
      "cell_type": "code",
      "metadata": {
        "id": "EHNpYkgw7odt",
        "colab_type": "code",
        "colab": {}
      },
      "source": [
        "df_final = df_final.rename(columns={'id':'answer','__id__':'test_id'})"
      ],
      "execution_count": 0,
      "outputs": []
    },
    {
      "cell_type": "code",
      "metadata": {
        "id": "D9QYw7M8Dry3",
        "colab_type": "code",
        "colab": {}
      },
      "source": [
        "df_final.to_csv('submission_5.csv',index=False)"
      ],
      "execution_count": 0,
      "outputs": []
    }
  ]
}